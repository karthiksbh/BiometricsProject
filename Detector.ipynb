{
 "cells": [
  {
   "cell_type": "markdown",
   "metadata": {},
   "source": [
    "# Importing required libraries"
   ]
  },
  {
   "cell_type": "code",
   "execution_count": 5,
   "metadata": {},
   "outputs": [],
   "source": [
    "import cv2,os\n",
    "import numpy as np\n",
    "from PIL import Image\n",
    "import pickle\n",
    "import sqlite3\n",
    "import pandas as pd"
   ]
  },
  {
   "cell_type": "markdown",
   "metadata": {},
   "source": [
    "# Using LBPH Face Recognizer for Face Recognition"
   ]
  },
  {
   "cell_type": "code",
   "execution_count": 6,
   "metadata": {},
   "outputs": [],
   "source": [
    "rec=cv2.face.LBPHFaceRecognizer_create()\n",
    "rec.read(\"Recognizer/TrainingData.yml\")\n",
    "faceCascade=cv2.CascadeClassifier('haarcascade_frontalface_default.xml');\n",
    "path = 'DataSet'\n",
    "df=pd.read_csv('ReservationDetails.csv')"
   ]
  },
  {
   "cell_type": "markdown",
   "metadata": {},
   "source": [
    "# To get the details of the person detected from database"
   ]
  },
  {
   "cell_type": "code",
   "execution_count": 7,
   "metadata": {},
   "outputs": [],
   "source": [
    "def getResDet(Id):\n",
    "    conn=sqlite3.connect(\"TicketFaceRecog.db\")\n",
    "    cmd=\"SELECT * FROM Reservation WHERE ID=\"+str(Id)\n",
    "    cursor=conn.execute(cmd)\n",
    "    Det=0\n",
    "    for row in cursor:\n",
    "        Det=row\n",
    "    conn.close()\n",
    "    return Det"
   ]
  },
  {
   "cell_type": "markdown",
   "metadata": {},
   "source": [
    "# Display the passenger details if ticket exists else no ticket "
   ]
  },
  {
   "cell_type": "code",
   "execution_count": 9,
   "metadata": {},
   "outputs": [
    {
     "ename": "ValueError",
     "evalue": "cannot convert float NaN to integer",
     "output_type": "error",
     "traceback": [
      "\u001b[1;31m---------------------------------------------------------------------------\u001b[0m",
      "\u001b[1;31mValueError\u001b[0m                                Traceback (most recent call last)",
      "\u001b[1;32m<ipython-input-9-7e69827d6676>\u001b[0m in \u001b[0;36m<module>\u001b[1;34m\u001b[0m\n\u001b[0;32m     28\u001b[0m             \u001b[1;32mfor\u001b[0m \u001b[0midss\u001b[0m \u001b[1;32min\u001b[0m \u001b[0mdf\u001b[0m\u001b[1;33m[\u001b[0m\u001b[1;34m'PASSENGER UNIQUE ID'\u001b[0m\u001b[1;33m]\u001b[0m\u001b[1;33m:\u001b[0m\u001b[1;33m\u001b[0m\u001b[1;33m\u001b[0m\u001b[0m\n\u001b[0;32m     29\u001b[0m                 \u001b[0mrowss\u001b[0m\u001b[1;33m=\u001b[0m\u001b[0mrowss\u001b[0m\u001b[1;33m+\u001b[0m\u001b[1;36m1\u001b[0m\u001b[1;33m\u001b[0m\u001b[1;33m\u001b[0m\u001b[0m\n\u001b[1;32m---> 30\u001b[1;33m                 \u001b[1;32mif\u001b[0m \u001b[0mint\u001b[0m\u001b[1;33m(\u001b[0m\u001b[0midss\u001b[0m\u001b[1;33m)\u001b[0m\u001b[1;33m==\u001b[0m\u001b[0mid\u001b[0m\u001b[1;33m:\u001b[0m\u001b[1;33m\u001b[0m\u001b[1;33m\u001b[0m\u001b[0m\n\u001b[0m\u001b[0;32m     31\u001b[0m                     \u001b[0mrow_line\u001b[0m\u001b[1;33m=\u001b[0m\u001b[0mdf\u001b[0m\u001b[1;33m.\u001b[0m\u001b[0miloc\u001b[0m\u001b[1;33m[\u001b[0m\u001b[0mrowss\u001b[0m\u001b[1;33m]\u001b[0m\u001b[1;33m\u001b[0m\u001b[1;33m\u001b[0m\u001b[0m\n\u001b[0;32m     32\u001b[0m \u001b[1;33m\u001b[0m\u001b[0m\n",
      "\u001b[1;31mValueError\u001b[0m: cannot convert float NaN to integer"
     ]
    }
   ],
   "source": [
    "# We have used both database and the CSV file to retrieve the passenger details.\n",
    "\n",
    "cam = cv2.VideoCapture(0)\n",
    "font_for = cv2.FONT_HERSHEY_SIMPLEX\n",
    "thickness = 2\n",
    "check = \"Checked\"\n",
    "\n",
    "while(True):\n",
    "    ret,img=cam.read();\n",
    "    gray = cv2.cvtColor(img, cv2.COLOR_BGR2GRAY)\n",
    "    faces=faceCascade.detectMultiScale(gray,1.3,5);\n",
    "    for(x,y,w,h) in faces:\n",
    "        cv2.rectangle(img,(x,y), (x+w, y+h), (0,0,0),3)\n",
    "        id,conf=rec.predict(gray[y:y+h,x:x+w])\n",
    "        Det = getResDet(id)\n",
    "        if(Det==0):\n",
    "            cv2.putText(img, \"Status: No Ticket Found\", (x-50,y+h+30),font_for,1,(0, 0, 255),thickness);\n",
    "        else:\n",
    "            rowss=-1\n",
    "            conn=sqlite3.connect(\"TicketFaceRecog.db\")\n",
    "            Id=Det[0]\n",
    "            cmd=\"UPDATE Reservation SET TicketChecked=' \"+check+\" ' WHERE ID=\"+str(Id)\n",
    "            conn.execute(cmd)\n",
    "            conn.commit()\n",
    "            conn.close()\n",
    "            cv2.putText(img, \"Status: Ticket Booked\", (x-80,y+h+30),font_for,1,(0, 220, 0),thickness);\n",
    "            cv2.putText(img, \"Name: \" + str(Det[1]), (x-80,y+h+60),font_for,1,(0, 220, 0),thickness);\n",
    "            for idss in df['PASSENGER UNIQUE ID']:\n",
    "                rowss=rowss+1\n",
    "                if int(idss)==id:\n",
    "                    row_line=df.iloc[rowss]\n",
    "        \n",
    "                    cv2.putText(img, \"Age: \" + str(row_line[6]), (x-80,y+h+90),font_for,1,(0, 220, 0),thickness);\n",
    "                    cv2.putText(img, \"Gender: \" + str(row_line[8]), (x-80,y+h+120),font_for,1,(0, 220, 0),thickness);\n",
    "                    cv2.putText(img, \"Journey Date: \" + str(row_line[10]), (x-80,y+h+150),font_for,1,(0, 220, 0),thickness);\n",
    "    cv2.imshow(\"Ticket Verification\",img);\n",
    "    if(cv2.waitKey(1)==ord('q')):\n",
    "        break;\n",
    "cam.release()\n",
    "cv2.destroyAllWindows()"
   ]
  },
  {
   "cell_type": "code",
   "execution_count": null,
   "metadata": {},
   "outputs": [],
   "source": []
  }
 ],
 "metadata": {
  "kernelspec": {
   "display_name": "Python 3",
   "language": "python",
   "name": "python3"
  },
  "language_info": {
   "codemirror_mode": {
    "name": "ipython",
    "version": 3
   },
   "file_extension": ".py",
   "mimetype": "text/x-python",
   "name": "python",
   "nbconvert_exporter": "python",
   "pygments_lexer": "ipython3",
   "version": "3.8.8"
  }
 },
 "nbformat": 4,
 "nbformat_minor": 4
}
