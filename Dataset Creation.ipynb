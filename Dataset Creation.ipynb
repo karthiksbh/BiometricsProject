{
 "cells": [
  {
   "cell_type": "code",
   "execution_count": 1,
   "id": "8e2484f3",
   "metadata": {},
   "outputs": [],
   "source": [
    "# Steps in Face recognition:\n",
    "# 1) Creating the Dataset\n",
    "# 2) Training the Recognizer\n",
    "# 3) Face Detection ->Detector"
   ]
  },
  {
   "cell_type": "markdown",
   "id": "2b65aca8",
   "metadata": {},
   "source": [
    "# Importing libraries"
   ]
  },
  {
   "cell_type": "code",
   "execution_count": 2,
   "id": "847c4160",
   "metadata": {},
   "outputs": [],
   "source": [
    "import cv2\n",
    "import numpy\n",
    "import sqlite3\n",
    "import csv\n",
    "import os"
   ]
  },
  {
   "cell_type": "markdown",
   "id": "9db57af6",
   "metadata": {},
   "source": [
    "# Face capture from the image"
   ]
  },
  {
   "cell_type": "code",
   "execution_count": 3,
   "id": "463ed2fd",
   "metadata": {},
   "outputs": [],
   "source": [
    "face_detection = cv2.CascadeClassifier('haarcascade_frontalface_default.xml')\n",
    "camera = cv2.VideoCapture(0)"
   ]
  },
  {
   "cell_type": "markdown",
   "id": "647a4324",
   "metadata": {},
   "source": [
    "# Function to insert the passenger details in the database"
   ]
  },
  {
   "cell_type": "code",
   "execution_count": 4,
   "id": "a6015242",
   "metadata": {},
   "outputs": [],
   "source": [
    "def insertUpdateDB(Id,name,age,gender,date):\n",
    "    conn = sqlite3.connect(\"TicketFaceRecog.db\")\n",
    "    cmd=\"SELECT * FROM Reservation WHERE ID=\"+str(Id)\n",
    "    cursor = conn.execute(cmd)\n",
    "    exists=0\n",
    "    for row in cursor:\n",
    "        exists=1\n",
    "    if(exists==1):\n",
    "        cmd=\"UPDATE Reservation SET Name=' \"+str(name)+\" ' WHERE ID=\"+str(Id)\n",
    "    else:\n",
    "        cmd=\"INSERT INTO Reservation(ID,Name) Values(\"+str(Id)+\",' \"+str(name)+\" ' )\"\n",
    "    conn.execute(cmd)\n",
    "    conn.commit()\n",
    "    conn.close()"
   ]
  },
  {
   "cell_type": "markdown",
   "id": "38d14424",
   "metadata": {},
   "source": [
    "#  Create/update the CSV file to add the data"
   ]
  },
  {
   "cell_type": "code",
   "execution_count": 5,
   "id": "e4f72c1a",
   "metadata": {},
   "outputs": [],
   "source": [
    "columns = ['SERIAL NO.', '', 'PASSENGER UNIQUE ID', '', 'PASSENGER NAME', '', 'PASSENGER AGE', '','PASSENGER GENDER','', 'DATE_OF_TRAVEL']\n",
    "serial = 0\n",
    "exists = os.path.isfile(\"ReservationDetails.csv\")\n",
    "if exists:\n",
    "        with open(\"ReservationDetails.csv\", 'r', newline='') as csvFile1:\n",
    "            reader1 = csv.reader(csvFile1)\n",
    "            for l in reader1:\n",
    "                serial = serial + 1\n",
    "        serial = (serial // 2)\n",
    "        csvFile1.close()\n",
    "else:\n",
    "        with open(\"ReservationDetails.csv\", 'a+', newline='') as csvFile1:\n",
    "            writer = csv.writer(csvFile1)\n",
    "            writer.writerow(columns)\n",
    "            serial = 1\n",
    "        csvFile1.close()"
   ]
  },
  {
   "cell_type": "markdown",
   "id": "13b2d19f",
   "metadata": {},
   "source": [
    "# Passenger Detail Inputs (User input)"
   ]
  },
  {
   "cell_type": "code",
   "execution_count": 6,
   "id": "da77f957",
   "metadata": {},
   "outputs": [
    {
     "name": "stdout",
     "output_type": "stream",
     "text": [
      "Enter the ID: 1\n",
      "Enter the name: Karthik\n",
      "Enter the age: 18\n",
      "Enter the gender(M or F): M\n",
      "Enter the date: 29-11-2021\n"
     ]
    }
   ],
   "source": [
    "user_id = input(\"Enter the ID: \")\n",
    "name = input(\"Enter the name: \")\n",
    "age=input(\"Enter the age: \")\n",
    "gender = input(\"Enter the gender(M or F): \")\n",
    "date_of_journey = input(\"Enter the date: \")\n",
    "row = [serial, '', user_id, '', name, '', age, '',gender,'', date_of_journey]"
   ]
  },
  {
   "cell_type": "markdown",
   "id": "ee785b8c",
   "metadata": {},
   "source": [
    "# Insert the passenger details into the CSV File"
   ]
  },
  {
   "cell_type": "code",
   "execution_count": 7,
   "id": "e96821e0",
   "metadata": {},
   "outputs": [],
   "source": [
    "with open('ReservationDetails.csv', 'a+', newline='') as csvFile:\n",
    "            writer = csv.writer(csvFile)\n",
    "            writer.writerow(row)\n",
    "csvFile.close()\n",
    "count = 0"
   ]
  },
  {
   "cell_type": "markdown",
   "id": "45310f10",
   "metadata": {},
   "source": [
    "# Insert the passenger details into the Database"
   ]
  },
  {
   "cell_type": "code",
   "execution_count": 8,
   "id": "39d5c7e9",
   "metadata": {},
   "outputs": [],
   "source": [
    "insertUpdateDB(user_id,name,age,gender,date_of_journey)"
   ]
  },
  {
   "cell_type": "markdown",
   "id": "d0377ab0",
   "metadata": {},
   "source": [
    "# Face capture - Convert to Gray - Dataset folder with 0-20 images"
   ]
  },
  {
   "cell_type": "code",
   "execution_count": 9,
   "id": "49d5c54b",
   "metadata": {},
   "outputs": [],
   "source": [
    "while(True):\n",
    "    ret, color_img = camera.read()\n",
    "    gray_image = cv2.cvtColor(color_img, cv2.COLOR_BGR2GRAY)\n",
    "    faces = face_detection.detectMultiScale(gray_image, 1.3, 5)\n",
    "\n",
    "    for (x, y, w, h) in faces:\n",
    "        count += 1\n",
    "        cv2.imwrite(\"DataSet/User.\"+str(user_id)+\".\" +\n",
    "                    str(count)+\".jpg\", gray_image[y:y+h, x:x+w])\n",
    "        cv2.rectangle(color_img, (x, y), (x+w, y+h), (0, 0, 0), 3)\n",
    "        cv2.waitKey(100)\n",
    "\n",
    "    cv2.imshow(\"Face Detection\", color_img)\n",
    "    cv2.waitKey(1)\n",
    "\n",
    "    if(count > 20):\n",
    "        break\n",
    "\n",
    "camera.release()\n",
    "cv2.destroyAllWindows()"
   ]
  },
  {
   "cell_type": "code",
   "execution_count": null,
   "id": "571e53a4",
   "metadata": {},
   "outputs": [],
   "source": []
  }
 ],
 "metadata": {
  "kernelspec": {
   "display_name": "Python 3",
   "language": "python",
   "name": "python3"
  },
  "language_info": {
   "codemirror_mode": {
    "name": "ipython",
    "version": 3
   },
   "file_extension": ".py",
   "mimetype": "text/x-python",
   "name": "python",
   "nbconvert_exporter": "python",
   "pygments_lexer": "ipython3",
   "version": "3.8.8"
  }
 },
 "nbformat": 4,
 "nbformat_minor": 5
}
